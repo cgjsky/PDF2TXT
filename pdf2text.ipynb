{
 "cells": [
  {
   "cell_type": "code",
   "execution_count": 9,
   "metadata": {},
   "outputs": [],
   "source": [
    "import pdfplumber\n",
    "import os\n",
    "import re\n",
    "from pdfminer.converter import LTChar, TextConverter\n",
    "from pdfminer.layout import LAParams\n",
    "from pdfminer.pdfparser import PDFParser\n",
    "from pdfminer.pdfdocument import PDFDocument\n",
    "from pdfminer.pdfpage import PDFTextExtractionNotAllowed\n",
    "from pdfminer.pdfpage import PDFPage\n",
    "from pdfminer.pdfinterp import PDFResourceManager, PDFPageInterpreter\n",
    "from pdfminer.converter import PDFPageAggregator\n",
    "from pdfminer.layout import LAParams, LTTextBox\n",
    "from io import StringIO\n",
    "from io import open"
   ]
  },
  {
   "cell_type": "code",
   "execution_count": 10,
   "metadata": {},
   "outputs": [],
   "source": [
    "#读取pdf文本内容\n",
    "def read(path):\n",
    "    parser = PDFParser(path)\n",
    "    doc = PDFDocument(parser, '')\n",
    "    parser.set_document(doc)\n",
    "    if not doc.is_extractable:\n",
    "        raise PDFTextExtractionNotAllowed\n",
    "    else:\n",
    "        rsrcmgr = PDFResourceManager()\n",
    "        laparams = LAParams()\n",
    "        device = PDFPageAggregator(rsrcmgr, laparams=laparams)\n",
    "        interpreter = PDFPageInterpreter(rsrcmgr, device)\n",
    "        #每次处理一个page的内容\n",
    "        page0 = ''\n",
    "        for i, page in enumerate(PDFPage.create_pages(doc)):\n",
    "            interpreter.process_page(page)\n",
    "            if page is not None:\n",
    "                interpreter.process_page(page)\n",
    "            layout = device.get_result()\n",
    "            line0 = ''\n",
    "            for x in layout:\n",
    "                if isinstance(x, LTTextBox):\n",
    "                    line0 = line0 + x.get_text().strip()\n",
    "            page0 = page0 + line0\n",
    "        return page0"
   ]
  },
  {
   "cell_type": "code",
   "execution_count": 11,
   "metadata": {},
   "outputs": [],
   "source": [
    "def get_txt():\n",
    "    path = 'PDF'\n",
    "    pdfList = os.listdir(path)\n",
    "    #批量读取存储\n",
    "    pdf_num = 0\n",
    "    for i in pdfList:\n",
    "        try:\n",
    "            pdffile = open(path + '/' + i, \"rb\")\n",
    "            content = read(pdffile)\n",
    "        except:\n",
    "            continue\n",
    "        str = re.sub('.pdf', '.txt', i)\n",
    "        file1 = \"/Users/chenguanjin/Desktop/1/txt/\" + str\n",
    "        with open(file1, 'w+', encoding='utf8') as f:\n",
    "            f.write(content)\n",
    "        pdf_num = pdf_num + 1\n",
    "        print(\"DONE:\" + str )\n",
    "    print('number of done-article:',end = \"\")\n",
    "    print(pdf_num)"
   ]
  },
  {
   "cell_type": "code",
   "execution_count": 12,
   "metadata": {},
   "outputs": [
    {
     "name": "stdout",
     "output_type": "stream",
     "text": [
      "DONE:5.txt\n",
      "DONE:4.txt\n",
      "DONE:1.txt\n",
      "DONE:3.txt\n",
      "DONE:2.txt\n",
      "number of done-article:5\n"
     ]
    }
   ],
   "source": [
    "get_txt()"
   ]
  }
 ],
 "metadata": {
  "interpreter": {
   "hash": "9265a1f83cbeb4cb496e9501fca05d914afba8201d048766b6d351b2b6609745"
  },
  "kernelspec": {
   "display_name": "Python 3.9.7 ('base')",
   "language": "python",
   "name": "python3"
  },
  "language_info": {
   "codemirror_mode": {
    "name": "ipython",
    "version": 3
   },
   "file_extension": ".py",
   "mimetype": "text/x-python",
   "name": "python",
   "nbconvert_exporter": "python",
   "pygments_lexer": "ipython3",
   "version": "3.9.12"
  },
  "orig_nbformat": 4
 },
 "nbformat": 4,
 "nbformat_minor": 2
}
