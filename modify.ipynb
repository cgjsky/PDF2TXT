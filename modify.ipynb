{
 "cells": [
  {
   "cell_type": "code",
   "execution_count": 1,
   "metadata": {},
   "outputs": [],
   "source": [
    "import re\n",
    "pdf_files=[\"PDF/1.pdf\",\"PDF/2.pdf\",\"PDF/3.pdf\",\"PDF/4.pdf\",\"PDF/5.pdf\"]\n",
    "txt_files=[\"txt/1.txt\",\"txt/2.txt\",\"txt/3.txt\",\"txt/4.txt\",\"txt/5.txt\"]"
   ]
  },
  {
   "cell_type": "code",
   "execution_count": 2,
   "metadata": {},
   "outputs": [],
   "source": [
    "for i in range(5):\n",
    "    file_path=txt_files[i]\n",
    "    with open(file_path, \"r\", encoding='utf-8') as f:\n",
    "        text=f.read()\n",
    "    #print(text)\n",
    "        result_list = re.split(r'。', text)\n",
    "        with open(file_path, \"w\", encoding='utf-8') as fl:\n",
    "            for l in result_list:\n",
    "                fl.write(l+'\\n')"
   ]
  }
 ],
 "metadata": {
  "interpreter": {
   "hash": "9265a1f83cbeb4cb496e9501fca05d914afba8201d048766b6d351b2b6609745"
  },
  "kernelspec": {
   "display_name": "Python 3.9.7 ('base')",
   "language": "python",
   "name": "python3"
  },
  "language_info": {
   "codemirror_mode": {
    "name": "ipython",
    "version": 3
   },
   "file_extension": ".py",
   "mimetype": "text/x-python",
   "name": "python",
   "nbconvert_exporter": "python",
   "pygments_lexer": "ipython3",
   "version": "3.9.12"
  },
  "orig_nbformat": 4
 },
 "nbformat": 4,
 "nbformat_minor": 2
}
