{
 "cells": [
  {
   "cell_type": "code",
   "execution_count": 189,
   "metadata": {},
   "outputs": [],
   "source": [
    "import codecs\n",
    "from gensim import corpora, models, similarities\n",
    "from gensim.models import LdaModel\n",
    "from gensim.corpora import Dictionary\n",
    "import numpy as np"
   ]
  },
  {
   "cell_type": "code",
   "execution_count": 190,
   "metadata": {},
   "outputs": [],
   "source": [
    "def get_train(filename):\n",
    "    train=[]\n",
    "    fp=codecs.open(filename, 'r', encoding='utf-8')\n",
    "    for line in fp:\n",
    "        line = line.split()\n",
    "        train.append(line)\n",
    "    return train"
   ]
  },
  {
   "cell_type": "code",
   "execution_count": 191,
   "metadata": {},
   "outputs": [],
   "source": [
    "\n",
    "#此处更改文件,下面几处相同,只用一次改1.txt,2.txt...即可，dirname可不变\n",
    "train=get_train(\"output/2.txt\")\n",
    "dictionary = corpora.Dictionary(train) \n",
    "corpus = [dictionary.doc2bow(text) for text in train]  \n",
    "tfidf = models.TfidfModel(corpus)\n",
    "corpus_tfidf = tfidf[corpus]"
   ]
  },
  {
   "cell_type": "code",
   "execution_count": 192,
   "metadata": {},
   "outputs": [],
   "source": [
    "lda = models.LdaModel(corpus_tfidf, num_topics=3, id2word=dictionary, alpha='auto', eta='auto', minimum_probability=0.001)"
   ]
  },
  {
   "cell_type": "code",
   "execution_count": 193,
   "metadata": {},
   "outputs": [
    {
     "name": "stdout",
     "output_type": "stream",
     "text": [
      "Topic 0\n",
      "[('报告', 0.0031792517), ('技术', 0.0018683618), ('汽车', 0.0017704152), ('发展', 0.0017000126), ('管理', 0.0015750887), ('健康', 0.0014674596), ('2019', 0.0013914865), ('新', 0.0013189914), ('数字', 0.0012405893), ('产品', 0.0011820885)]\n",
      "Topic 1\n",
      "[('GRI', 0.0028133038), ('披露', 0.002743154), ('2019', 0.0025272216), ('员工', 0.0024138833), ('汽车', 0.002300934), ('社会', 0.00215018), ('政策', 0.002100762), ('环境', 0.0019045736), ('管理', 0.0017827118), ('指标', 0.0016732854)]\n",
      "Topic 2\n",
      "[('绩效', 0.0022366229), ('尊重', 0.0021669648), ('成就', 0.0021008241), ('环境', 0.0019850687), ('融', 0.0019152974), ('汽车', 0.0018367801), ('指标', 0.0017771407), ('关键', 0.0016010723), ('影响', 0.001591633), ('发行人', 0.001417143)]\n"
     ]
    }
   ],
   "source": [
    "total_topics=3\n",
    "numbers=10\n",
    "#此处更改文件\n",
    "with open(r'WordlistOutput/2.txt', 'w', encoding='utf-8') as f1:\n",
    "    for topic_id in range(total_topics):\n",
    "        print('Topic', topic_id)\n",
    "        # print(lda.get_topic_terms(topicid=topic_id))  \n",
    "        print(lda.show_topic(topicid=topic_id))\n",
    "        word_list = lda.show_topic(topicid=topic_id)\n",
    "        for i in range(numbers):\n",
    "            f1.write(word_list[i][0]+' ')\n",
    "        f1.write('\\n')\n"
   ]
  },
  {
   "cell_type": "code",
   "execution_count": 194,
   "metadata": {},
   "outputs": [],
   "source": [
    "similarity=similarities.MatrixSimilarity(lda[corpus_tfidf])  "
   ]
  },
  {
   "cell_type": "code",
   "execution_count": 195,
   "metadata": {},
   "outputs": [],
   "source": [
    "a = np.array(list(similarity))\n",
    "result_index = a > 0.99000000"
   ]
  },
  {
   "cell_type": "code",
   "execution_count": 196,
   "metadata": {},
   "outputs": [],
   "source": [
    "#此处更改文件\n",
    "inputs = open(r'txt/2.txt', 'r', encoding='utf-8')\n",
    "text_list = inputs.readlines()\n",
    "# print(text_list)\n",
    "count = len(text_list)\n",
    "for line in range(count):\n",
    "    nowline = count - 1 - line\n",
    "    num = 0\n",
    "    for item in result_index[nowline][nowline:count-1]:\n",
    "        if item and num != 0:\n",
    "            text_list[nowline] = text_list[nowline+num].replace('\\n', '\\\\n') + text_list[nowline]\n",
    "            text_list[nowline+num] = ''\n",
    "        num += 1\n",
    "# print(text_list)\n",
    "#此处更改文件\n",
    "with open(r'FinalOutput/2.txt', 'w', encoding='utf-8') as f:\n",
    "    for text in text_list:\n",
    "        f.write(text)"
   ]
  },
  {
   "cell_type": "code",
   "execution_count": 197,
   "metadata": {},
   "outputs": [
    {
     "name": "stdout",
     "output_type": "stream",
     "text": [
      "(3, 24)\n"
     ]
    },
    {
     "name": "stderr",
     "output_type": "stream",
     "text": [
      "/Users/chenguanjin/miniforge3/lib/python3.9/site-packages/seaborn/utils.py:95: UserWarning: Glyph 25919 (\\N{CJK UNIFIED IDEOGRAPH-653F}) missing from current font.\n",
      "  fig.canvas.draw()\n",
      "/Users/chenguanjin/miniforge3/lib/python3.9/site-packages/seaborn/utils.py:95: UserWarning: Glyph 31574 (\\N{CJK UNIFIED IDEOGRAPH-7B56}) missing from current font.\n",
      "  fig.canvas.draw()\n",
      "/Users/chenguanjin/miniforge3/lib/python3.9/site-packages/seaborn/utils.py:95: UserWarning: Glyph 21697 (\\N{CJK UNIFIED IDEOGRAPH-54C1}) missing from current font.\n",
      "  fig.canvas.draw()\n",
      "/Users/chenguanjin/miniforge3/lib/python3.9/site-packages/seaborn/utils.py:95: UserWarning: Glyph 26032 (\\N{CJK UNIFIED IDEOGRAPH-65B0}) missing from current font.\n",
      "  fig.canvas.draw()\n",
      "/Users/chenguanjin/miniforge3/lib/python3.9/site-packages/seaborn/utils.py:95: UserWarning: Glyph 26415 (\\N{CJK UNIFIED IDEOGRAPH-672F}) missing from current font.\n",
      "  fig.canvas.draw()\n",
      "/Users/chenguanjin/miniforge3/lib/python3.9/site-packages/seaborn/utils.py:95: UserWarning: Glyph 34701 (\\N{CJK UNIFIED IDEOGRAPH-878D}) missing from current font.\n",
      "  fig.canvas.draw()\n",
      "/Users/chenguanjin/miniforge3/lib/python3.9/site-packages/seaborn/utils.py:95: UserWarning: Glyph 24433 (\\N{CJK UNIFIED IDEOGRAPH-5F71}) missing from current font.\n",
      "  fig.canvas.draw()\n",
      "/Users/chenguanjin/miniforge3/lib/python3.9/site-packages/seaborn/utils.py:95: UserWarning: Glyph 21709 (\\N{CJK UNIFIED IDEOGRAPH-54CD}) missing from current font.\n",
      "  fig.canvas.draw()\n",
      "/Users/chenguanjin/miniforge3/lib/python3.9/site-packages/seaborn/utils.py:95: UserWarning: Glyph 38190 (\\N{CJK UNIFIED IDEOGRAPH-952E}) missing from current font.\n",
      "  fig.canvas.draw()\n",
      "/Users/chenguanjin/miniforge3/lib/python3.9/site-packages/seaborn/utils.py:660: UserWarning: Glyph 27773 (\\N{CJK UNIFIED IDEOGRAPH-6C7D}) missing from current font.\n",
      "  bboxes = [l.get_window_extent() for l in labels]\n",
      "/Users/chenguanjin/miniforge3/lib/python3.9/site-packages/seaborn/utils.py:660: UserWarning: Glyph 36710 (\\N{CJK UNIFIED IDEOGRAPH-8F66}) missing from current font.\n",
      "  bboxes = [l.get_window_extent() for l in labels]\n",
      "/Users/chenguanjin/miniforge3/lib/python3.9/site-packages/seaborn/utils.py:660: UserWarning: Glyph 25919 (\\N{CJK UNIFIED IDEOGRAPH-653F}) missing from current font.\n",
      "  bboxes = [l.get_window_extent() for l in labels]\n",
      "/Users/chenguanjin/miniforge3/lib/python3.9/site-packages/seaborn/utils.py:660: UserWarning: Glyph 31574 (\\N{CJK UNIFIED IDEOGRAPH-7B56}) missing from current font.\n",
      "  bboxes = [l.get_window_extent() for l in labels]\n",
      "/Users/chenguanjin/miniforge3/lib/python3.9/site-packages/seaborn/utils.py:660: UserWarning: Glyph 25259 (\\N{CJK UNIFIED IDEOGRAPH-62AB}) missing from current font.\n",
      "  bboxes = [l.get_window_extent() for l in labels]\n",
      "/Users/chenguanjin/miniforge3/lib/python3.9/site-packages/seaborn/utils.py:660: UserWarning: Glyph 38706 (\\N{CJK UNIFIED IDEOGRAPH-9732}) missing from current font.\n",
      "  bboxes = [l.get_window_extent() for l in labels]\n",
      "/Users/chenguanjin/miniforge3/lib/python3.9/site-packages/seaborn/utils.py:660: UserWarning: Glyph 21697 (\\N{CJK UNIFIED IDEOGRAPH-54C1}) missing from current font.\n",
      "  bboxes = [l.get_window_extent() for l in labels]\n",
      "/Users/chenguanjin/miniforge3/lib/python3.9/site-packages/seaborn/utils.py:660: UserWarning: Glyph 25968 (\\N{CJK UNIFIED IDEOGRAPH-6570}) missing from current font.\n",
      "  bboxes = [l.get_window_extent() for l in labels]\n",
      "/Users/chenguanjin/miniforge3/lib/python3.9/site-packages/seaborn/utils.py:660: UserWarning: Glyph 23383 (\\N{CJK UNIFIED IDEOGRAPH-5B57}) missing from current font.\n",
      "  bboxes = [l.get_window_extent() for l in labels]\n",
      "/Users/chenguanjin/miniforge3/lib/python3.9/site-packages/seaborn/utils.py:660: UserWarning: Glyph 26032 (\\N{CJK UNIFIED IDEOGRAPH-65B0}) missing from current font.\n",
      "  bboxes = [l.get_window_extent() for l in labels]\n",
      "/Users/chenguanjin/miniforge3/lib/python3.9/site-packages/seaborn/utils.py:660: UserWarning: Glyph 26415 (\\N{CJK UNIFIED IDEOGRAPH-672F}) missing from current font.\n",
      "  bboxes = [l.get_window_extent() for l in labels]\n",
      "/Users/chenguanjin/miniforge3/lib/python3.9/site-packages/seaborn/utils.py:660: UserWarning: Glyph 34701 (\\N{CJK UNIFIED IDEOGRAPH-878D}) missing from current font.\n",
      "  bboxes = [l.get_window_extent() for l in labels]\n",
      "/Users/chenguanjin/miniforge3/lib/python3.9/site-packages/seaborn/utils.py:660: UserWarning: Glyph 24433 (\\N{CJK UNIFIED IDEOGRAPH-5F71}) missing from current font.\n",
      "  bboxes = [l.get_window_extent() for l in labels]\n",
      "/Users/chenguanjin/miniforge3/lib/python3.9/site-packages/seaborn/utils.py:660: UserWarning: Glyph 21709 (\\N{CJK UNIFIED IDEOGRAPH-54CD}) missing from current font.\n",
      "  bboxes = [l.get_window_extent() for l in labels]\n",
      "/Users/chenguanjin/miniforge3/lib/python3.9/site-packages/seaborn/utils.py:660: UserWarning: Glyph 38190 (\\N{CJK UNIFIED IDEOGRAPH-952E}) missing from current font.\n",
      "  bboxes = [l.get_window_extent() for l in labels]\n",
      "/Users/chenguanjin/miniforge3/lib/python3.9/site-packages/seaborn/utils.py:660: UserWarning: Glyph 25104 (\\N{CJK UNIFIED IDEOGRAPH-6210}) missing from current font.\n",
      "  bboxes = [l.get_window_extent() for l in labels]\n",
      "/Users/chenguanjin/miniforge3/lib/python3.9/site-packages/seaborn/utils.py:660: UserWarning: Glyph 23601 (\\N{CJK UNIFIED IDEOGRAPH-5C31}) missing from current font.\n",
      "  bboxes = [l.get_window_extent() for l in labels]\n",
      "/Users/chenguanjin/miniforge3/lib/python3.9/site-packages/seaborn/utils.py:660: UserWarning: Glyph 32489 (\\N{CJK UNIFIED IDEOGRAPH-7EE9}) missing from current font.\n",
      "  bboxes = [l.get_window_extent() for l in labels]\n",
      "/Users/chenguanjin/miniforge3/lib/python3.9/site-packages/seaborn/utils.py:660: UserWarning: Glyph 25928 (\\N{CJK UNIFIED IDEOGRAPH-6548}) missing from current font.\n",
      "  bboxes = [l.get_window_extent() for l in labels]\n",
      "/Users/chenguanjin/miniforge3/lib/python3.9/site-packages/seaborn/utils.py:660: UserWarning: Glyph 23562 (\\N{CJK UNIFIED IDEOGRAPH-5C0A}) missing from current font.\n",
      "  bboxes = [l.get_window_extent() for l in labels]\n",
      "/Users/chenguanjin/miniforge3/lib/python3.9/site-packages/seaborn/utils.py:660: UserWarning: Glyph 22659 (\\N{CJK UNIFIED IDEOGRAPH-5883}) missing from current font.\n",
      "  bboxes = [l.get_window_extent() for l in labels]\n",
      "/Users/chenguanjin/miniforge3/lib/python3.9/site-packages/seaborn/matrix.py:1203: UserWarning: Glyph 24433 (\\N{CJK UNIFIED IDEOGRAPH-5F71}) missing from current font.\n",
      "  self._figure.tight_layout(**tight_params)\n",
      "/Users/chenguanjin/miniforge3/lib/python3.9/site-packages/seaborn/matrix.py:1203: UserWarning: Glyph 21709 (\\N{CJK UNIFIED IDEOGRAPH-54CD}) missing from current font.\n",
      "  self._figure.tight_layout(**tight_params)\n",
      "/Users/chenguanjin/miniforge3/lib/python3.9/site-packages/seaborn/matrix.py:1203: UserWarning: Glyph 38190 (\\N{CJK UNIFIED IDEOGRAPH-952E}) missing from current font.\n",
      "  self._figure.tight_layout(**tight_params)\n",
      "/Users/chenguanjin/miniforge3/lib/python3.9/site-packages/seaborn/matrix.py:1203: UserWarning: Glyph 34701 (\\N{CJK UNIFIED IDEOGRAPH-878D}) missing from current font.\n",
      "  self._figure.tight_layout(**tight_params)\n",
      "/Users/chenguanjin/miniforge3/lib/python3.9/site-packages/seaborn/matrix.py:1203: UserWarning: Glyph 21697 (\\N{CJK UNIFIED IDEOGRAPH-54C1}) missing from current font.\n",
      "  self._figure.tight_layout(**tight_params)\n",
      "/Users/chenguanjin/miniforge3/lib/python3.9/site-packages/seaborn/matrix.py:1203: UserWarning: Glyph 26032 (\\N{CJK UNIFIED IDEOGRAPH-65B0}) missing from current font.\n",
      "  self._figure.tight_layout(**tight_params)\n",
      "/Users/chenguanjin/miniforge3/lib/python3.9/site-packages/seaborn/matrix.py:1203: UserWarning: Glyph 26415 (\\N{CJK UNIFIED IDEOGRAPH-672F}) missing from current font.\n",
      "  self._figure.tight_layout(**tight_params)\n",
      "/Users/chenguanjin/miniforge3/lib/python3.9/site-packages/seaborn/matrix.py:1203: UserWarning: Glyph 25919 (\\N{CJK UNIFIED IDEOGRAPH-653F}) missing from current font.\n",
      "  self._figure.tight_layout(**tight_params)\n",
      "/Users/chenguanjin/miniforge3/lib/python3.9/site-packages/seaborn/matrix.py:1203: UserWarning: Glyph 31574 (\\N{CJK UNIFIED IDEOGRAPH-7B56}) missing from current font.\n",
      "  self._figure.tight_layout(**tight_params)\n",
      "/Users/chenguanjin/miniforge3/lib/python3.9/site-packages/IPython/core/pylabtools.py:151: UserWarning: Glyph 25919 (\\N{CJK UNIFIED IDEOGRAPH-653F}) missing from current font.\n",
      "  fig.canvas.print_figure(bytes_io, **kw)\n",
      "/Users/chenguanjin/miniforge3/lib/python3.9/site-packages/IPython/core/pylabtools.py:151: UserWarning: Glyph 31574 (\\N{CJK UNIFIED IDEOGRAPH-7B56}) missing from current font.\n",
      "  fig.canvas.print_figure(bytes_io, **kw)\n",
      "/Users/chenguanjin/miniforge3/lib/python3.9/site-packages/IPython/core/pylabtools.py:151: UserWarning: Glyph 21697 (\\N{CJK UNIFIED IDEOGRAPH-54C1}) missing from current font.\n",
      "  fig.canvas.print_figure(bytes_io, **kw)\n",
      "/Users/chenguanjin/miniforge3/lib/python3.9/site-packages/IPython/core/pylabtools.py:151: UserWarning: Glyph 26032 (\\N{CJK UNIFIED IDEOGRAPH-65B0}) missing from current font.\n",
      "  fig.canvas.print_figure(bytes_io, **kw)\n",
      "/Users/chenguanjin/miniforge3/lib/python3.9/site-packages/IPython/core/pylabtools.py:151: UserWarning: Glyph 26415 (\\N{CJK UNIFIED IDEOGRAPH-672F}) missing from current font.\n",
      "  fig.canvas.print_figure(bytes_io, **kw)\n",
      "/Users/chenguanjin/miniforge3/lib/python3.9/site-packages/IPython/core/pylabtools.py:151: UserWarning: Glyph 34701 (\\N{CJK UNIFIED IDEOGRAPH-878D}) missing from current font.\n",
      "  fig.canvas.print_figure(bytes_io, **kw)\n",
      "/Users/chenguanjin/miniforge3/lib/python3.9/site-packages/IPython/core/pylabtools.py:151: UserWarning: Glyph 24433 (\\N{CJK UNIFIED IDEOGRAPH-5F71}) missing from current font.\n",
      "  fig.canvas.print_figure(bytes_io, **kw)\n",
      "/Users/chenguanjin/miniforge3/lib/python3.9/site-packages/IPython/core/pylabtools.py:151: UserWarning: Glyph 21709 (\\N{CJK UNIFIED IDEOGRAPH-54CD}) missing from current font.\n",
      "  fig.canvas.print_figure(bytes_io, **kw)\n",
      "/Users/chenguanjin/miniforge3/lib/python3.9/site-packages/IPython/core/pylabtools.py:151: UserWarning: Glyph 38190 (\\N{CJK UNIFIED IDEOGRAPH-952E}) missing from current font.\n",
      "  fig.canvas.print_figure(bytes_io, **kw)\n"
     ]
    },
    {
     "data": {
      "image/png": "[encoded data removed]",
      "text/plain": [
       "<Figure size 1080x1080 with 4 Axes>"
      ]
     },
     "metadata": {
      "needs_background": "light"
     },
     "output_type": "display_data"
    }
   ],
   "source": [
    "import seaborn as sns\n",
    "from collections import OrderedDict\n",
    "import pandas as pd\n",
    "import matplotlib.pyplot as plt\n",
    "%matplotlib inline\n",
    "data_lda = {i: OrderedDict(lda.show_topic(i,10)) for i in range(total_topics)}\n",
    "df_lda = pd.DataFrame(data_lda)\n",
    "df_lda = df_lda.fillna(0).T\n",
    "print(df_lda.shape)\n",
    "g=sns.clustermap(df_lda.corr(), center=0, standard_scale=1, cmap=\"RdBu\", metric='cosine', linewidths=.75, figsize=(15, 15))\n",
    "plt.setp(g.ax_heatmap.yaxis.get_majorticklabels(), rotation=0)\n",
    "plt.show()"
   ]
  }
 ],
 "metadata": {
  "interpreter": {
   "hash": "9265a1f83cbeb4cb496e9501fca05d914afba8201d048766b6d351b2b6609745"
  },
  "kernelspec": {
   "display_name": "Python 3.9.7 ('base')",
   "language": "python",
   "name": "python3"
  },
  "language_info": {
   "codemirror_mode": {
    "name": "ipython",
    "version": 3
   },
   "file_extension": ".py",
   "mimetype": "text/x-python",
   "name": "python",
   "nbconvert_exporter": "python",
   "pygments_lexer": "ipython3",
   "version": "3.9.12"
  },
  "orig_nbformat": 4
 },
 "nbformat": 4,
 "nbformat_minor": 2
}
