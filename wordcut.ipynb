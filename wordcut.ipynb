{
 "cells": [
  {
   "cell_type": "code",
   "execution_count": 29,
   "metadata": {},
   "outputs": [],
   "source": [
    "import jieba"
   ]
  },
  {
   "cell_type": "code",
   "execution_count": 30,
   "metadata": {},
   "outputs": [],
   "source": [
    "def stopwordslist(filepath):\n",
    "    stopwords = [line.strip() for line in open(filepath, 'r', encoding='utf-8').readlines()]\n",
    "    return stopwords"
   ]
  },
  {
   "cell_type": "code",
   "execution_count": 31,
   "metadata": {},
   "outputs": [],
   "source": [
    "def seg_sentence(sentence):\n",
    "    sentence_seged = jieba.cut(sentence.strip())  # 去掉无用空白符\n",
    "    stopwords = stopwordslist('stopwords.txt')  # 这里加载停用词的路径\n",
    "    outstr = ''\n",
    "    for word in sentence_seged:\n",
    "        if word not in stopwords:\n",
    "            if word != '\\t':\n",
    "                outstr += word\n",
    "                outstr += \" \"\n",
    "    return outstr"
   ]
  },
  {
   "cell_type": "code",
   "execution_count": 32,
   "metadata": {},
   "outputs": [],
   "source": [
    "input_files=[\"txt/1.txt\",\"txt/2.txt\",\"txt/3.txt\",\"txt/4.txt\",\"txt/5.txt\"]\n",
    "output_files=[\"output/1.txt\",\"output/2.txt\",\"output/3.txt\",\"output/4.txt\",\"output/5.txt\"]\n",
    "for i in range(5):\n",
    "    inputs = open(input_files[i], 'r', encoding='utf-8')\n",
    "    outputs = open(output_files[i], 'w', encoding='utf-8')\n",
    "    for line in inputs:\n",
    "        line_seg = seg_sentence(line)\n",
    "        outputs.write(line_seg+'\\n')\n",
    "    outputs.close()\n",
    "    inputs.close()"
   ]
  }
 ],
 "metadata": {
  "interpreter": {
   "hash": "9265a1f83cbeb4cb496e9501fca05d914afba8201d048766b6d351b2b6609745"
  },
  "kernelspec": {
   "display_name": "Python 3.9.7 ('base')",
   "language": "python",
   "name": "python3"
  },
  "language_info": {
   "codemirror_mode": {
    "name": "ipython",
    "version": 3
   },
   "file_extension": ".py",
   "mimetype": "text/x-python",
   "name": "python",
   "nbconvert_exporter": "python",
   "pygments_lexer": "ipython3",
   "version": "3.9.12"
  },
  "orig_nbformat": 4
 },
 "nbformat": 4,
 "nbformat_minor": 2
}
